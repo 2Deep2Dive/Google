{
 "cells": [
  {
   "cell_type": "code",
   "execution_count": null,
   "metadata": {},
   "outputs": [],
   "source": [
    "#!/usr/bin/env python3\n",
    "import re\n",
    "import sys\n",
    "import os\n",
    "\n",
    "infoPttern = r\"ticky: INFO: ([\\w ]*)\"\n",
    "logfile = sys.argv[1]\n",
    "with open(logfile) as file:\n",
    "    for line in file:\n",
    "        if \"ticky: INFO:\" in line:\n",
    "            infoResults = re.search()"
   ]
  }
 ],
 "metadata": {
  "language_info": {
   "name": "python"
  },
  "orig_nbformat": 4
 },
 "nbformat": 4,
 "nbformat_minor": 2
}
